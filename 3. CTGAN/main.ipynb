{
 "cells": [
  {
   "cell_type": "code",
   "execution_count": null,
   "metadata": {},
   "outputs": [],
   "source": [
    "#!pip install sdv ctgan torch"
   ]
  },
  {
   "cell_type": "code",
   "execution_count": 28,
   "metadata": {},
   "outputs": [
    {
     "name": "stdout",
     "output_type": "stream",
     "text": [
      "   Survived  Pclass  Sex   Age  Siblings/Spouses Aboard  \\\n",
      "0         0       3    0  22.0                        1   \n",
      "1         1       1    1  38.0                        1   \n",
      "2         1       3    1  26.0                        0   \n",
      "3         1       1    1  35.0                        1   \n",
      "4         0       3    0  35.0                        0   \n",
      "\n",
      "   Parents/Children Aboard     Fare  \n",
      "0                        0   7.2500  \n",
      "1                        0  71.2833  \n",
      "2                        0   7.9250  \n",
      "3                        0  53.1000  \n",
      "4                        0   8.0500  \n"
     ]
    }
   ],
   "source": [
    "import pandas as pd\n",
    "from tvae import TVAE\n",
    "\n",
    "# 타이타닉 데이터셋 로드\n",
    "url = 'https://web.stanford.edu/class/archive/cs/cs109/cs109.1166/stuff/titanic.csv'\n",
    "data = pd.read_csv(url)\n",
    "\n",
    "# 필요한 전처리 (예: 결측값 처리)\n",
    "data = data.drop(['Name'], axis=1)  # 분석에 필요하지 않은 'Name' 열 삭제\n",
    "data = data.dropna()  # 결측값이 있는 행 삭제\n",
    "data['Sex'] = data['Sex'].map({'male': 0, 'female': 1})  # 성별을 숫자로 변환\n",
    "\n",
    "# 데이터셋 확인\n",
    "print(data.head())"
   ]
  },
  {
   "cell_type": "code",
   "execution_count": 29,
   "metadata": {},
   "outputs": [],
   "source": [
    "# TVAE 모델 학습\n",
    "tvae = TVAE(epochs=300, batch_size=500, verbose=True)\n"
   ]
  },
  {
   "cell_type": "code",
   "execution_count": 30,
   "metadata": {},
   "outputs": [
    {
     "name": "stderr",
     "output_type": "stream",
     "text": [
      "Loss: 6.078: 100%|██████████| 300/300 [00:07<00:00, 40.53it/s]\n"
     ]
    }
   ],
   "source": [
    "tvae.fit(data, discrete_columns=['Survived', 'Pclass', 'Sex', 'Siblings/Spouses Aboard', 'Parents/Children Aboard'])\n",
    "\n"
   ]
  },
  {
   "cell_type": "code",
   "execution_count": 31,
   "metadata": {},
   "outputs": [
    {
     "name": "stdout",
     "output_type": "stream",
     "text": [
      "   Survived  Pclass  Sex        Age  Siblings/Spouses Aboard  \\\n",
      "0         1       3    1  20.736773                        0   \n",
      "1         0       3    0  22.513544                        0   \n",
      "2         0       1    0  27.765766                        1   \n",
      "3         0       3    0  18.670739                        0   \n",
      "4         1       3    1  20.442953                        0   \n",
      "5         0       3    0  30.124512                        0   \n",
      "6         0       3    0  22.857849                        0   \n",
      "7         1       2    1  36.740552                        0   \n",
      "8         0       3    0  15.053903                        0   \n",
      "9         0       3    1  25.575785                        0   \n",
      "\n",
      "   Parents/Children Aboard       Fare  \n",
      "0                        0  13.236631  \n",
      "1                        0   7.856270  \n",
      "2                        0  24.288985  \n",
      "3                        0  57.603609  \n",
      "4                        0  16.937087  \n",
      "5                        0  13.163455  \n",
      "6                        0  10.267690  \n",
      "7                        0  14.038186  \n",
      "8                        0   6.842606  \n",
      "9                        0   8.431496  \n"
     ]
    }
   ],
   "source": [
    "# 새로운 데이터 생성\n",
    "tvae_new_data = tvae.sample(10)\n",
    "print(tvae_new_data)"
   ]
  },
  {
   "cell_type": "code",
   "execution_count": 32,
   "metadata": {},
   "outputs": [
    {
     "name": "stderr",
     "output_type": "stream",
     "text": [
      "c:\\Users\\thdfy\\anaconda3\\envs\\py310\\lib\\site-packages\\sdv\\single_table\\base.py:92: UserWarning: We strongly recommend saving the metadata using 'save_to_json' for replicability in future SDV versions.\n",
      "  warnings.warn(\n"
     ]
    }
   ],
   "source": [
    "from sdv.single_table import CTGANSynthesizer\n",
    "from sdv.metadata import SingleTableMetadata\n",
    "# CTGAN 모델 초기화\n",
    "metadata = SingleTableMetadata()\n",
    "metadata.detect_from_dataframe(data)\n",
    "model = CTGANSynthesizer(metadata)\n",
    "\n",
    "# 모델 학습\n",
    "model.fit(data)\n",
    "\n"
   ]
  },
  {
   "cell_type": "code",
   "execution_count": 33,
   "metadata": {},
   "outputs": [
    {
     "name": "stdout",
     "output_type": "stream",
     "text": [
      "   Survived  Pclass  Sex    Age  Siblings/Spouses Aboard  \\\n",
      "0         0       3    0  11.90                        1   \n",
      "1         0       3    0  19.63                        0   \n",
      "2         1       1    1  54.80                        4   \n",
      "3         0       3    1  17.49                        0   \n",
      "4         1       3    1  55.91                        4   \n",
      "5         1       3    0  37.95                        1   \n",
      "6         0       2    1  65.24                        0   \n",
      "7         0       1    0  24.67                        0   \n",
      "8         1       3    0  28.69                        0   \n",
      "9         0       3    1   0.42                        1   \n",
      "\n",
      "   Parents/Children Aboard      Fare  \n",
      "0                        2    7.1253  \n",
      "1                        0   13.6876  \n",
      "2                        0   27.4948  \n",
      "3                        0   16.0078  \n",
      "4                        1  114.1140  \n",
      "5                        1   14.5457  \n",
      "6                        0   17.1474  \n",
      "7                        2   86.2272  \n",
      "8                        1    9.9852  \n",
      "9                        2   12.3481  \n"
     ]
    }
   ],
   "source": [
    "# 새로운 데이터 생성 (예: 10개의 샘플 생성)\n",
    "CTGAN_new_data = model.sample(10)\n",
    "\n",
    "# 생성된 데이터 출력\n",
    "print(CTGAN_new_data)"
   ]
  }
 ],
 "metadata": {
  "kernelspec": {
   "display_name": "Python 3",
   "language": "python",
   "name": "python3"
  },
  "language_info": {
   "codemirror_mode": {
    "name": "ipython",
    "version": 3
   },
   "file_extension": ".py",
   "mimetype": "text/x-python",
   "name": "python",
   "nbconvert_exporter": "python",
   "pygments_lexer": "ipython3",
   "version": "3.10.14"
  }
 },
 "nbformat": 4,
 "nbformat_minor": 2
}
