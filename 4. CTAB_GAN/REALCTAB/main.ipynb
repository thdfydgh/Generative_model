{
 "cells": [
  {
   "cell_type": "code",
   "execution_count": 21,
   "metadata": {},
   "outputs": [],
   "source": [
    "\n",
    "#!pip install numpy==1.21.0 torch==1.9.1 pandas==1.2.4 sklearn==0.24.1 dython==0.6.4.post1 scipy==1.4.1"
   ]
  },
  {
   "cell_type": "code",
   "execution_count": 22,
   "metadata": {},
   "outputs": [],
   "source": [
    "# Importing the model\n",
    "from model.ctabgan import CTABGAN\n",
    "from model.synthesizer.transformer import DataTransformer\n",
    "# Importing the evaluation metrics \n",
    "#\n",
    "# from model.eval.evaluation import get_utility_metrics,stat_sim,privacy_metrics\n",
    "# Importing standard libraries\n",
    "import numpy as np\n",
    "import pandas as pd\n",
    "import glob"
   ]
  },
  {
   "cell_type": "code",
   "execution_count": 23,
   "metadata": {},
   "outputs": [],
   "source": [
    "# Specifying the replication number \n",
    "num_exp = 1 \n",
    "# Specifying the name of the dataset used \n",
    "dataset = \"train\" \n",
    "# Specifying the path of the dataset used \n",
    "real_path = \"Real_Datasets/titanic_train.csv\" \n",
    "# Specifying the root directory for storing generated data\n",
    "fake_file_root = \"Fake_Datasets_titanic_train\" "
   ]
  },
  {
   "cell_type": "code",
   "execution_count": 24,
   "metadata": {},
   "outputs": [],
   "source": [
    "synthesizer = CTABGAN(raw_csv_path=real_path,\n",
    "                      test_ratio=0.20,  \n",
    "                      categorical_columns=['Pclass', 'Sex', 'SibSp', 'Parch', 'Embarked', 'Survived'], \n",
    "                      log_columns=[],\n",
    "                      mixed_columns={\n",
    "                                     }, \n",
    "                      integer_columns=['Age', 'Pclass', 'SibSp', 'Parch'],\n",
    "                      problem_type={\"Classification\": 'Survived'},\n",
    "                      epochs=150)"
   ]
  },
  {
   "cell_type": "code",
   "execution_count": 25,
   "metadata": {},
   "outputs": [
    {
     "data": {
      "text/plain": [
       "1"
      ]
     },
     "execution_count": 25,
     "metadata": {},
     "output_type": "execute_result"
    }
   ],
   "source": [
    "num_exp"
   ]
  },
  {
   "cell_type": "code",
   "execution_count": 26,
   "metadata": {},
   "outputs": [
    {
     "ename": "TypeError",
     "evalue": "BayesianGaussianMixture.__init__() takes 1 positional argument but 2 positional arguments (and 5 keyword-only arguments) were given",
     "output_type": "error",
     "traceback": [
      "\u001b[1;31m---------------------------------------------------------------------------\u001b[0m",
      "\u001b[1;31mTypeError\u001b[0m                                 Traceback (most recent call last)",
      "Cell \u001b[1;32mIn[26], line 1\u001b[0m\n\u001b[1;32m----> 1\u001b[0m \u001b[43msynthesizer\u001b[49m\u001b[38;5;241;43m.\u001b[39;49m\u001b[43mfit\u001b[49m\u001b[43m(\u001b[49m\u001b[43m)\u001b[49m\n\u001b[0;32m      2\u001b[0m syn \u001b[38;5;241m=\u001b[39m synthesizer\u001b[38;5;241m.\u001b[39mgenerate_samples()\n",
      "File \u001b[1;32mc:\\Users\\thdfy\\OneDrive\\바탕 화면\\Generate Model\\4. CTAB_GAN\\REALCTAB\\model\\ctabgan.py:59\u001b[0m, in \u001b[0;36mCTABGAN.fit\u001b[1;34m(self)\u001b[0m\n\u001b[0;32m     57\u001b[0m start_time \u001b[38;5;241m=\u001b[39m time\u001b[38;5;241m.\u001b[39mtime()\n\u001b[0;32m     58\u001b[0m \u001b[38;5;28mself\u001b[39m\u001b[38;5;241m.\u001b[39mdata_prep \u001b[38;5;241m=\u001b[39m DataPrep(\u001b[38;5;28mself\u001b[39m\u001b[38;5;241m.\u001b[39mraw_df,\u001b[38;5;28mself\u001b[39m\u001b[38;5;241m.\u001b[39mcategorical_columns,\u001b[38;5;28mself\u001b[39m\u001b[38;5;241m.\u001b[39mlog_columns,\u001b[38;5;28mself\u001b[39m\u001b[38;5;241m.\u001b[39mmixed_columns,\u001b[38;5;28mself\u001b[39m\u001b[38;5;241m.\u001b[39minteger_columns,\u001b[38;5;28mself\u001b[39m\u001b[38;5;241m.\u001b[39mproblem_type,\u001b[38;5;28mself\u001b[39m\u001b[38;5;241m.\u001b[39mtest_ratio)\n\u001b[1;32m---> 59\u001b[0m \u001b[38;5;28;43mself\u001b[39;49m\u001b[38;5;241;43m.\u001b[39;49m\u001b[43msynthesizer\u001b[49m\u001b[38;5;241;43m.\u001b[39;49m\u001b[43mfit\u001b[49m\u001b[43m(\u001b[49m\u001b[43mtrain_data\u001b[49m\u001b[38;5;241;43m=\u001b[39;49m\u001b[38;5;28;43mself\u001b[39;49m\u001b[38;5;241;43m.\u001b[39;49m\u001b[43mdata_prep\u001b[49m\u001b[38;5;241;43m.\u001b[39;49m\u001b[43mdf\u001b[49m\u001b[43m,\u001b[49m\u001b[43m \u001b[49m\u001b[43mcategorical\u001b[49m\u001b[43m \u001b[49m\u001b[38;5;241;43m=\u001b[39;49m\u001b[43m \u001b[49m\u001b[38;5;28;43mself\u001b[39;49m\u001b[38;5;241;43m.\u001b[39;49m\u001b[43mdata_prep\u001b[49m\u001b[38;5;241;43m.\u001b[39;49m\u001b[43mcolumn_types\u001b[49m\u001b[43m[\u001b[49m\u001b[38;5;124;43m\"\u001b[39;49m\u001b[38;5;124;43mcategorical\u001b[39;49m\u001b[38;5;124;43m\"\u001b[39;49m\u001b[43m]\u001b[49m\u001b[43m,\u001b[49m\u001b[43m \u001b[49m\n\u001b[0;32m     60\u001b[0m \u001b[43m\u001b[49m\u001b[43mmixed\u001b[49m\u001b[43m \u001b[49m\u001b[38;5;241;43m=\u001b[39;49m\u001b[43m \u001b[49m\u001b[38;5;28;43mself\u001b[39;49m\u001b[38;5;241;43m.\u001b[39;49m\u001b[43mdata_prep\u001b[49m\u001b[38;5;241;43m.\u001b[39;49m\u001b[43mcolumn_types\u001b[49m\u001b[43m[\u001b[49m\u001b[38;5;124;43m\"\u001b[39;49m\u001b[38;5;124;43mmixed\u001b[39;49m\u001b[38;5;124;43m\"\u001b[39;49m\u001b[43m]\u001b[49m\u001b[43m,\u001b[49m\u001b[38;5;28;43mtype\u001b[39;49m\u001b[38;5;241;43m=\u001b[39;49m\u001b[38;5;28;43mself\u001b[39;49m\u001b[38;5;241;43m.\u001b[39;49m\u001b[43mproblem_type\u001b[49m\u001b[43m)\u001b[49m\n\u001b[0;32m     61\u001b[0m end_time \u001b[38;5;241m=\u001b[39m time\u001b[38;5;241m.\u001b[39mtime()\n\u001b[0;32m     62\u001b[0m \u001b[38;5;28mprint\u001b[39m(\u001b[38;5;124m'\u001b[39m\u001b[38;5;124mFinished training in\u001b[39m\u001b[38;5;124m'\u001b[39m,end_time\u001b[38;5;241m-\u001b[39mstart_time,\u001b[38;5;124m\"\u001b[39m\u001b[38;5;124m seconds.\u001b[39m\u001b[38;5;124m\"\u001b[39m)\n",
      "File \u001b[1;32mc:\\Users\\thdfy\\OneDrive\\바탕 화면\\Generate Model\\4. CTAB_GAN\\REALCTAB\\model\\synthesizer\\ctabgan_synthesizer.py:598\u001b[0m, in \u001b[0;36mCTABGANSynthesizer.fit\u001b[1;34m(self, train_data, categorical, mixed, type)\u001b[0m\n\u001b[0;32m    595\u001b[0m \u001b[38;5;66;03m# transforming pre-processed training data according to different data types \u001b[39;00m\n\u001b[0;32m    596\u001b[0m \u001b[38;5;66;03m# i.e., mode specific normalisation for numeric and mixed columns and one-hot-encoding for categorical columns\u001b[39;00m\n\u001b[0;32m    597\u001b[0m \u001b[38;5;28mself\u001b[39m\u001b[38;5;241m.\u001b[39mtransformer \u001b[38;5;241m=\u001b[39m DataTransformer(train_data\u001b[38;5;241m=\u001b[39mtrain_data, categorical_list\u001b[38;5;241m=\u001b[39mcategorical, mixed_dict\u001b[38;5;241m=\u001b[39mmixed)\n\u001b[1;32m--> 598\u001b[0m \u001b[38;5;28;43mself\u001b[39;49m\u001b[38;5;241;43m.\u001b[39;49m\u001b[43mtransformer\u001b[49m\u001b[38;5;241;43m.\u001b[39;49m\u001b[43mfit\u001b[49m\u001b[43m(\u001b[49m\u001b[43m)\u001b[49m \n\u001b[0;32m    599\u001b[0m train_data \u001b[38;5;241m=\u001b[39m \u001b[38;5;28mself\u001b[39m\u001b[38;5;241m.\u001b[39mtransformer\u001b[38;5;241m.\u001b[39mtransform(train_data\u001b[38;5;241m.\u001b[39mvalues)\n\u001b[0;32m    600\u001b[0m \u001b[38;5;66;03m# storing column size of the transformed training data\u001b[39;00m\n",
      "File \u001b[1;32mc:\\Users\\thdfy\\OneDrive\\바탕 화면\\Generate Model\\4. CTAB_GAN\\REALCTAB\\model\\synthesizer\\transformer.py:93\u001b[0m, in \u001b[0;36mDataTransformer.fit\u001b[1;34m(self)\u001b[0m\n\u001b[0;32m     90\u001b[0m \u001b[38;5;28;01mfor\u001b[39;00m id_, info \u001b[38;5;129;01min\u001b[39;00m \u001b[38;5;28menumerate\u001b[39m(\u001b[38;5;28mself\u001b[39m\u001b[38;5;241m.\u001b[39mmeta):\n\u001b[0;32m     91\u001b[0m     \u001b[38;5;28;01mif\u001b[39;00m info[\u001b[38;5;124m'\u001b[39m\u001b[38;5;124mtype\u001b[39m\u001b[38;5;124m'\u001b[39m] \u001b[38;5;241m==\u001b[39m \u001b[38;5;124m\"\u001b[39m\u001b[38;5;124mcontinuous\u001b[39m\u001b[38;5;124m\"\u001b[39m:\n\u001b[0;32m     92\u001b[0m         \u001b[38;5;66;03m# fitting bgm model\u001b[39;00m\n\u001b[1;32m---> 93\u001b[0m         gm \u001b[38;5;241m=\u001b[39m BayesianGaussianMixture(\n\u001b[0;32m     94\u001b[0m             n_components\u001b[38;5;241m=\u001b[39m\u001b[38;5;28mself\u001b[39m\u001b[38;5;241m.\u001b[39mn_clusters,\n\u001b[0;32m     95\u001b[0m             weight_concentration_prior_type\u001b[38;5;241m=\u001b[39m\u001b[38;5;124m'\u001b[39m\u001b[38;5;124mdirichlet_process\u001b[39m\u001b[38;5;124m'\u001b[39m,\n\u001b[0;32m     96\u001b[0m             weight_concentration_prior\u001b[38;5;241m=\u001b[39m\u001b[38;5;241m0.001\u001b[39m, \u001b[38;5;66;03m# lower values result in lesser modes being active\u001b[39;00m\n\u001b[0;32m     97\u001b[0m             max_iter\u001b[38;5;241m=\u001b[39m\u001b[38;5;241m500\u001b[39m, n_init\u001b[38;5;241m=\u001b[39m\u001b[38;5;241m5\u001b[39m, random_state\u001b[38;5;241m=\u001b[39m\u001b[38;5;241m42\u001b[39m, tol\u001b[38;5;241m=\u001b[39m\u001b[38;5;241m1e-3\u001b[39m)\n\u001b[0;32m     98\u001b[0m         gm\u001b[38;5;241m.\u001b[39mfit(data[:, id_]\u001b[38;5;241m.\u001b[39mreshape([\u001b[38;5;241m-\u001b[39m\u001b[38;5;241m1\u001b[39m, \u001b[38;5;241m1\u001b[39m]))\n\u001b[0;32m     99\u001b[0m         model\u001b[38;5;241m.\u001b[39mappend(gm)\n",
      "\u001b[1;31mTypeError\u001b[0m: BayesianGaussianMixture.__init__() takes 1 positional argument but 2 positional arguments (and 5 keyword-only arguments) were given"
     ]
    }
   ],
   "source": [
    "synthesizer.fit()\n",
    "syn = synthesizer.generate_samples()"
   ]
  }
 ],
 "metadata": {
  "kernelspec": {
   "display_name": "Python 3",
   "language": "python",
   "name": "python3"
  },
  "language_info": {
   "codemirror_mode": {
    "name": "ipython",
    "version": 3
   },
   "file_extension": ".py",
   "mimetype": "text/x-python",
   "name": "python",
   "nbconvert_exporter": "python",
   "pygments_lexer": "ipython3",
   "version": "3.10.14"
  }
 },
 "nbformat": 4,
 "nbformat_minor": 2
}
